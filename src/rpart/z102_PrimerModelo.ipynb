{
 "cells": [
  {
   "cell_type": "markdown",
   "metadata": {},
   "source": [
    "Arbol elemental con libreria  rpart"
   ]
  },
  {
   "cell_type": "markdown",
   "metadata": {},
   "source": [
    "#Debe tener instaladas las librerias  data.table  ,  rpart   y rpart.plot"
   ]
  },
  {
   "cell_type": "code",
   "execution_count": 1,
   "metadata": {},
   "outputs": [
    {
     "name": "stderr",
     "output_type": "stream",
     "text": [
      "Loading required package: data.table\n",
      "\n",
      "Loading required package: rpart\n",
      "\n",
      "Loading required package: rpart.plot\n",
      "\n"
     ]
    }
   ],
   "source": [
    "#cargo las librerias que necesito\n",
    "require(\"data.table\")\n",
    "require(\"rpart\")\n",
    "require(\"rpart.plot\")"
   ]
  },
  {
   "cell_type": "code",
   "execution_count": 2,
   "metadata": {},
   "outputs": [
    {
     "ename": "ERROR",
     "evalue": "Error in setwd(\"D:\\\\gdrive\\\\ITBA2022A\\\\\"): cannot change working directory\n",
     "output_type": "error",
     "traceback": [
      "Error in setwd(\"D:\\\\gdrive\\\\ITBA2022A\\\\\"): cannot change working directory\nTraceback:\n",
      "1. setwd(\"D:\\\\gdrive\\\\ITBA2022A\\\\\")"
     ]
    }
   ],
   "source": [
    "#Aqui se debe poner la carpeta de SU computadora local\n",
    "setwd(\"D:\\\\gdrive\\\\ITBA2022A\\\\\")  #Establezco el Working Directory"
   ]
  },
  {
   "cell_type": "markdown",
   "metadata": {},
   "source": [
    "cargo los datos de 202009 que es donde voy a ENTRENAR el modelo"
   ]
  },
  {
   "cell_type": "code",
   "execution_count": 3,
   "metadata": {},
   "outputs": [
    {
     "ename": "ERROR",
     "evalue": "Error in fread(\"./datasets/paquete_premium_202011.csv\"): File './datasets/paquete_premium_202011.csv' does not exist or is non-readable. getwd()=='C:/Users/juanp/OneDrive/Escritorio/ECD/MD/labo/src/rpart'\n",
     "output_type": "error",
     "traceback": [
      "Error in fread(\"./datasets/paquete_premium_202011.csv\"): File './datasets/paquete_premium_202011.csv' does not exist or is non-readable. getwd()=='C:/Users/juanp/OneDrive/Escritorio/ECD/MD/labo/src/rpart'\nTraceback:\n",
      "1. fread(\"./datasets/paquete_premium_202011.csv\")",
      "2. stop(\"File '\", file, \"' does not exist or is non-readable. getwd()=='\", \n .     getwd(), \"'\")"
     ]
    }
   ],
   "source": [
    "dtrain  <- fread(\"./datasets/paquete_premium_202011.csv\")"
   ]
  },
  {
   "cell_type": "markdown",
   "metadata": {},
   "source": [
    "genero el modelo,  aqui se construye el arbol"
   ]
  },
  {
   "cell_type": "code",
   "execution_count": 4,
   "metadata": {},
   "outputs": [
    {
     "ename": "ERROR",
     "evalue": "Error in is.data.frame(data): object 'dtrain' not found\n",
     "output_type": "error",
     "traceback": [
      "Error in is.data.frame(data): object 'dtrain' not found\nTraceback:\n",
      "1. rpart(\"clase_ternaria ~ .\", data = dtrain, xval = 0, cp = -0.3, \n .     minsplit = 100, minbucket = 1, maxdepth = 10)",
      "2. eval.parent(temp)",
      "3. eval(expr, p)",
      "4. eval(expr, p)",
      "5. stats::model.frame(formula = \"clase_ternaria ~ .\", data = dtrain, \n .     na.action = function (x) \n .     {\n .         Terms <- attr(x, \"terms\")\n .         if (!is.null(Terms)) \n .             yvar <- attr(Terms, \"response\")\n .         else yvar <- 0L\n .         if (yvar == 0L) {\n .             xmiss <- is.na(x)\n .             keep <- (xmiss %*% rep(1, ncol(xmiss))) < ncol(xmiss)\n .         }\n .         else {\n .             xmiss <- is.na(x[-yvar])\n .             ymiss <- is.na(x[[yvar]])\n .             keep <- if (is.matrix(ymiss)) \n .                 ((xmiss %*% rep(1, ncol(xmiss))) < ncol(xmiss)) & \n .                   ((ymiss %*% rep(1, ncol(ymiss))) == 0)\n .             else ((xmiss %*% rep(1, ncol(xmiss))) < ncol(xmiss)) & \n .                 !ymiss\n .         }\n .         if (all(keep)) \n .             x\n .         else {\n .             temp <- seq(keep)[!keep]\n .             names(temp) <- row.names(x)[!keep]\n .             class(temp) <- c(\"na.rpart\", \"omit\")\n .             structure(x[keep, , drop = FALSE], na.action = temp)\n .         }\n .     })",
      "6. model.frame.default(formula = \"clase_ternaria ~ .\", data = dtrain, \n .     na.action = function (x) \n .     {\n .         Terms <- attr(x, \"terms\")\n .         if (!is.null(Terms)) \n .             yvar <- attr(Terms, \"response\")\n .         else yvar <- 0L\n .         if (yvar == 0L) {\n .             xmiss <- is.na(x)\n .             keep <- (xmiss %*% rep(1, ncol(xmiss))) < ncol(xmiss)\n .         }\n .         else {\n .             xmiss <- is.na(x[-yvar])\n .             ymiss <- is.na(x[[yvar]])\n .             keep <- if (is.matrix(ymiss)) \n .                 ((xmiss %*% rep(1, ncol(xmiss))) < ncol(xmiss)) & \n .                   ((ymiss %*% rep(1, ncol(ymiss))) == 0)\n .             else ((xmiss %*% rep(1, ncol(xmiss))) < ncol(xmiss)) & \n .                 !ymiss\n .         }\n .         if (all(keep)) \n .             x\n .         else {\n .             temp <- seq(keep)[!keep]\n .             names(temp) <- row.names(x)[!keep]\n .             class(temp) <- c(\"na.rpart\", \"omit\")\n .             structure(x[keep, , drop = FALSE], na.action = temp)\n .         }\n .     })",
      "7. is.data.frame(data)"
     ]
    }
   ],
   "source": [
    "modelo  <- rpart(\"clase_ternaria ~ .\",\n",
    "                 data = dtrain,\n",
    "                 xval=0,\n",
    "                 cp=        -0.3,  #esto significa no limitar la complejidad de los splits\n",
    "                 minsplit=  100,   #minima cantidad de registros para que se haga el split\n",
    "                 minbucket=   1,   #tamaño minimo de una hoja\n",
    "                 maxdepth=   10 )  #PRUEBO  una profundidad de 10"
   ]
  },
  {
   "cell_type": "markdown",
   "metadata": {},
   "source": [
    "Ahora grafico el arbol, va a ser muy frondoso porque la profundidad es de 10"
   ]
  },
  {
   "cell_type": "code",
   "execution_count": null,
   "metadata": {},
   "outputs": [],
   "source": [
    "prp(modelo, extra=101, digits=5, branch=1, type=4, varlen=0, faclen=0)"
   ]
  },
  {
   "cell_type": "code",
   "execution_count": null,
   "metadata": {},
   "outputs": [],
   "source": [
    "#Ahora aplico al modelo  a los datos de 202101  y genero la salida para kaggle"
   ]
  },
  {
   "cell_type": "markdown",
   "metadata": {},
   "source": [
    "#cargo los datos de 202011, que es donde voy a APLICAR el modelo"
   ]
  },
  {
   "cell_type": "code",
   "execution_count": null,
   "metadata": {},
   "outputs": [],
   "source": [
    "dapply  <- fread(\"./datasets/paquete_premium_202101.csv\")"
   ]
  },
  {
   "cell_type": "raw",
   "metadata": {},
   "source": [
    "#aplico el modelo a los datos nuevos"
   ]
  },
  {
   "cell_type": "code",
   "execution_count": null,
   "metadata": {},
   "outputs": [],
   "source": [
    "prediccion  <- predict( modelo, dapply , type = \"prob\") #aplico el modelo"
   ]
  },
  {
   "cell_type": "markdown",
   "metadata": {},
   "source": [
    "prediccion es una matriz con TRES columnas, llamadas \"BAJA+1\", \"BAJA+2\"  y \"CONTINUA\"\n",
    "cada columna es el vector de probabilidades "
   ]
  },
  {
   "cell_type": "markdown",
   "metadata": {},
   "source": [
    "agrego a dapply una columna nueva que es la probabilidad de BAJA+2"
   ]
  },
  {
   "cell_type": "code",
   "execution_count": null,
   "metadata": {},
   "outputs": [],
   "source": [
    "dapply[ , prob_baja2 := prediccion[, \"BAJA+2\"] ]"
   ]
  },
  {
   "cell_type": "markdown",
   "metadata": {},
   "source": [
    "solo le envio estimulo a los registros con probabilidad de BAJA+2 mayor  a  1/60"
   ]
  },
  {
   "cell_type": "code",
   "execution_count": null,
   "metadata": {},
   "outputs": [],
   "source": [
    "dapply[ , Predicted  := as.numeric(prob_baja2 > 1/60) ]"
   ]
  },
  {
   "cell_type": "markdown",
   "metadata": {},
   "source": [
    "genero un dataset con las dos columnas que me interesan"
   ]
  },
  {
   "cell_type": "code",
   "execution_count": null,
   "metadata": {},
   "outputs": [],
   "source": [
    "entrega  <- dapply[   , list(numero_de_cliente, Predicted) ] #genero la salida"
   ]
  },
  {
   "cell_type": "markdown",
   "metadata": {},
   "source": [
    "#Finalmente genero el archivo para Kaggle"
   ]
  },
  {
   "cell_type": "code",
   "execution_count": null,
   "metadata": {},
   "outputs": [],
   "source": [
    "#creo la carpeta donde va el experimento"
   ]
  },
  {
   "cell_type": "code",
   "execution_count": null,
   "metadata": {},
   "outputs": [],
   "source": [
    "dir.create( \"./labo/exp/\" ) \n",
    "dir.create( \"./labo/exp/KA2002\" ) "
   ]
  },
  {
   "cell_type": "markdown",
   "metadata": {},
   "source": [
    "grabo el dataset"
   ]
  },
  {
   "cell_type": "code",
   "execution_count": null,
   "metadata": {},
   "outputs": [],
   "source": [
    "fwrite( entrega, \n",
    "        file= \"./labo/exp/KA2002/K102_001.csv\", \n",
    "        sep= \",\" )"
   ]
  }
 ],
 "metadata": {
  "kernelspec": {
   "display_name": "R",
   "language": "R",
   "name": "ir"
  },
  "language_info": {
   "codemirror_mode": "r",
   "file_extension": ".r",
   "mimetype": "text/x-r-source",
   "name": "R",
   "pygments_lexer": "r",
   "version": "4.2.0"
  }
 },
 "nbformat": 4,
 "nbformat_minor": 4
}
